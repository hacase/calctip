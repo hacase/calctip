{
 "cells": [
  {
   "cell_type": "code",
   "execution_count": 2,
   "id": "b2615c41-c3dd-46dd-afb5-a38ab2fa7943",
   "metadata": {},
   "outputs": [
    {
     "name": "stdin",
     "output_type": "stream",
     "text": [
      "1. Name =  grace\n",
      "   Hour =  2\n",
      "2. Name =  pepa\n",
      "   Hour =  2\n",
      "3. Name =  taro\n",
      "   Hour =  1\n",
      "4. Name =  0\n",
      "total tip= 8.925\n"
     ]
    },
    {
     "name": "stdout",
     "output_type": "stream",
     "text": [
      "tip ratio= 1.785 €/h\n",
      "tip rounded correctly\n",
      "[3.57  3.57  1.785]\n",
      "[3.57  3.57  1.785]\n",
      "[3.5   3.5   1.785]\n",
      "--------------------------------\n",
      "grace  2.0h  ->   3.5€  %   3.57\n",
      "pepa   2.0h  ->   3.5€  %   3.57\n",
      "taro   1.0h  ->   1.8€  %   1.79\n"
     ]
    }
   ],
   "source": [
    "import numpy as np\n",
    "\n",
    "name = []\n",
    "hour = []\n",
    "i = 1\n",
    "\n",
    "name.append(input('{}{} = '.format(i, \". Name\")))\n",
    "while name[-1] != \"0\":\n",
    "    hour.append(float(input('{} = '.format(\"   Hour\"))))\n",
    "    i += 1\n",
    "    name.append(input('{}{} = '.format(i, \". Name\")))\n",
    "    \n",
    "name = name[:-1]\n",
    "    \n",
    "tipsum = float(input(\"total tip=\"))\n",
    "\n",
    "ratio = tipsum / sum(hour)\n",
    "print(f'tip ratio= {ratio:.4} €/h')\n",
    "\n",
    "realtip = np.array([ratio * i for i in hour])\n",
    "real = np.array([ratio * i for i in hour])\n",
    "\n",
    "roundtip = np.around(realtip, decimals=1)\n",
    "\n",
    "if sum(roundtip) > tipsum:\n",
    "    print(\"tip rounded correctly\")\n",
    "    \n",
    "    check = 5\n",
    "    \n",
    "    while sum(roundtip) > tipsum:\n",
    "        deci = [int(i * 100) % 10 for i in real]\n",
    "        hit = [i for i, j in enumerate(deci) if j == check]\n",
    "\n",
    "        for i in range(len(roundtip)):\n",
    "            if i in hit:\n",
    "                real[i] = int(real[i] * 10) / 10\n",
    "                \n",
    "        roundtip = np.around(real, decimals=1)\n",
    "        \n",
    "        check += 1\n",
    "\n",
    "maxstr = len(max(name, key=len))\n",
    "print('-' * (maxstr + 27))\n",
    "for i in range(len(name)):\n",
    "    print('{num:{width}}'.format(num = name[i], width = maxstr), f' {hour[i]}h', f' -> {roundtip[i]:5.1f}€', f' %  {realtip[i]:5.2f}')"
   ]
  },
  {
   "cell_type": "code",
   "execution_count": null,
   "id": "b8db3232-1d9f-470d-9c4c-dec1096bc90b",
   "metadata": {},
   "outputs": [],
   "source": []
  }
 ],
 "metadata": {
  "kernelspec": {
   "display_name": "Python 3",
   "language": "python",
   "name": "python3"
  },
  "language_info": {
   "codemirror_mode": {
    "name": "ipython",
    "version": 3
   },
   "file_extension": ".py",
   "mimetype": "text/x-python",
   "name": "python",
   "nbconvert_exporter": "python",
   "pygments_lexer": "ipython3",
   "version": "3.8.10"
  }
 },
 "nbformat": 4,
 "nbformat_minor": 5
}
