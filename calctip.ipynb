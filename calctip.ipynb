{
 "cells": [
  {
   "cell_type": "code",
   "execution_count": 10,
   "id": "b2615c41-c3dd-46dd-afb5-a38ab2fa7943",
   "metadata": {},
   "outputs": [
    {
     "name": "stdin",
     "output_type": "stream",
     "text": [
      "1. Name =  grace\n",
      "   Hour =  2.5\n",
      "2. Name =  pepa\n",
      "   Hour =  4.5\n",
      "3. Name =  sina\n",
      "   Hour =  4.5\n",
      "4. Name =  taro\n",
      "   Hour =  4.5\n",
      "5. Name =  0\n",
      "total tip= 38.4\n"
     ]
    },
    {
     "name": "stdout",
     "output_type": "stream",
     "text": [
      "tip ratio= 2.4 €/h\n",
      "tip rounded correctly\n",
      "[ 6.  10.8 10.8 10.8]\n",
      "38.400000000000006 38.4\n",
      "True\n",
      "--------------------------------\n",
      "grace  2.5h  ->   6.0€  %   6.00\n",
      "pepa   4.5h  ->  10.8€  %  10.80\n",
      "sina   4.5h  ->  10.8€  %  10.80\n",
      "taro   4.5h  ->  10.8€  %  10.80\n"
     ]
    }
   ],
   "source": [
    "import numpy as np\n",
    "\n",
    "name = []\n",
    "hour = []\n",
    "i = 1\n",
    "\n",
    "name.append(input('{}{} = '.format(i, \". Name\")))\n",
    "while name[-1] != \"0\":\n",
    "    hour.append(float(input('{} = '.format(\"   Hour\"))))\n",
    "    i += 1\n",
    "    name.append(input('{}{} = '.format(i, \". Name\")))\n",
    "    \n",
    "name = name[:-1]\n",
    "    \n",
    "tipsum = float(input(\"total tip=\"))\n",
    "\n",
    "ratio = tipsum / sum(hour)\n",
    "print(f'tip ratio= {ratio:.4} €/h')\n",
    "\n",
    "realtip = np.array([ratio * i for i in hour])\n",
    "real = np.array([ratio * i for i in hour])\n",
    "\n",
    "roundtip = np.around(realtip, decimals=1)\n",
    "\n",
    "if np.around(sum(roundtip), decimals=3) > tipsum:\n",
    "    print(\"tip rounded correctly\")\n",
    "    \n",
    "    check = 5\n",
    "    \n",
    "    while np.around(sum(roundtip), decimals=3) > tipsum:\n",
    "        deci = [int(i * 100) % 10 for i in real]\n",
    "        hit = [i for i, j in enumerate(deci) if j == check]\n",
    "        \n",
    "        for i in range(len(roundtip)):\n",
    "            if i in hit:\n",
    "                real[i] = int(real[i] * 10) / 10\n",
    "                \n",
    "        roundtip = np.around(real, decimals=1)\n",
    "        \n",
    "        check += 1\n",
    "\n",
    "maxstr = len(max(name, key=len))\n",
    "print('-' * (maxstr + 27))\n",
    "for i in range(len(name)):\n",
    "    print('{num:{width}}'.format(num = name[i], width = maxstr), f' {hour[i]}h', f' -> {roundtip[i]:5.1f}€', f' %  {realtip[i]:5.2f}')"
   ]
  },
  {
   "cell_type": "code",
   "execution_count": null,
   "id": "353d0f4a-06d9-4ac1-b80b-da22287d4c9a",
   "metadata": {},
   "outputs": [],
   "source": []
  }
 ],
 "metadata": {
  "kernelspec": {
   "display_name": "Python 3",
   "language": "python",
   "name": "python3"
  },
  "language_info": {
   "codemirror_mode": {
    "name": "ipython",
    "version": 3
   },
   "file_extension": ".py",
   "mimetype": "text/x-python",
   "name": "python",
   "nbconvert_exporter": "python",
   "pygments_lexer": "ipython3",
   "version": "3.8.10"
  }
 },
 "nbformat": 4,
 "nbformat_minor": 5
}
